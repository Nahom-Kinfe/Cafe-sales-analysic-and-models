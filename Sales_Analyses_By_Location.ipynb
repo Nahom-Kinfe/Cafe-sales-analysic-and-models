{
 "cells": [
  {
   "cell_type": "code",
   "execution_count": 1,
   "id": "3a9ed2fd",
   "metadata": {},
   "outputs": [],
   "source": [
    "import pandas as pd\n",
    "import numpy as np\n",
    "from sklearn.metrics import mean_absolute_error, mean_squared_error, r2_score\n"
   ]
  },
  {
   "cell_type": "code",
   "execution_count": 2,
   "id": "8e3938e1",
   "metadata": {},
   "outputs": [],
   "source": [
    "data = pd.read_csv(r\"dirty_cafe_sales.csv\")"
   ]
  },
  {
   "cell_type": "code",
   "execution_count": 3,
   "id": "b6445880",
   "metadata": {},
   "outputs": [
    {
     "name": "stdout",
     "output_type": "stream",
     "text": [
      "0    Juice\n",
      "Name: Item, dtype: object\n"
     ]
    }
   ],
   "source": [
    "m = data[\"Item\"].mode()\n",
    "print(m)"
   ]
  },
  {
   "cell_type": "code",
   "execution_count": 4,
   "id": "d16e446b",
   "metadata": {},
   "outputs": [
    {
     "data": {
      "text/html": [
       "<div>\n",
       "<style scoped>\n",
       "    .dataframe tbody tr th:only-of-type {\n",
       "        vertical-align: middle;\n",
       "    }\n",
       "\n",
       "    .dataframe tbody tr th {\n",
       "        vertical-align: top;\n",
       "    }\n",
       "\n",
       "    .dataframe thead th {\n",
       "        text-align: right;\n",
       "    }\n",
       "</style>\n",
       "<table border=\"1\" class=\"dataframe\">\n",
       "  <thead>\n",
       "    <tr style=\"text-align: right;\">\n",
       "      <th></th>\n",
       "      <th>Transaction ID</th>\n",
       "      <th>Item</th>\n",
       "      <th>Quantity</th>\n",
       "      <th>Price Per Unit</th>\n",
       "      <th>Total Spent</th>\n",
       "      <th>Payment Method</th>\n",
       "      <th>Location</th>\n",
       "      <th>Transaction Date</th>\n",
       "    </tr>\n",
       "  </thead>\n",
       "  <tbody>\n",
       "    <tr>\n",
       "      <th>count</th>\n",
       "      <td>10000</td>\n",
       "      <td>9667</td>\n",
       "      <td>9862</td>\n",
       "      <td>9821</td>\n",
       "      <td>9827</td>\n",
       "      <td>7421</td>\n",
       "      <td>6735</td>\n",
       "      <td>9841</td>\n",
       "    </tr>\n",
       "    <tr>\n",
       "      <th>unique</th>\n",
       "      <td>10000</td>\n",
       "      <td>10</td>\n",
       "      <td>7</td>\n",
       "      <td>8</td>\n",
       "      <td>19</td>\n",
       "      <td>5</td>\n",
       "      <td>4</td>\n",
       "      <td>367</td>\n",
       "    </tr>\n",
       "    <tr>\n",
       "      <th>top</th>\n",
       "      <td>TXN_9226047</td>\n",
       "      <td>Juice</td>\n",
       "      <td>5</td>\n",
       "      <td>3.0</td>\n",
       "      <td>6.0</td>\n",
       "      <td>Digital Wallet</td>\n",
       "      <td>Takeaway</td>\n",
       "      <td>UNKNOWN</td>\n",
       "    </tr>\n",
       "    <tr>\n",
       "      <th>freq</th>\n",
       "      <td>1</td>\n",
       "      <td>1171</td>\n",
       "      <td>2013</td>\n",
       "      <td>2429</td>\n",
       "      <td>979</td>\n",
       "      <td>2291</td>\n",
       "      <td>3022</td>\n",
       "      <td>159</td>\n",
       "    </tr>\n",
       "  </tbody>\n",
       "</table>\n",
       "</div>"
      ],
      "text/plain": [
       "       Transaction ID   Item Quantity Price Per Unit Total Spent  \\\n",
       "count           10000   9667     9862           9821        9827   \n",
       "unique          10000     10        7              8          19   \n",
       "top       TXN_9226047  Juice        5            3.0         6.0   \n",
       "freq                1   1171     2013           2429         979   \n",
       "\n",
       "        Payment Method  Location Transaction Date  \n",
       "count             7421      6735             9841  \n",
       "unique               5         4              367  \n",
       "top     Digital Wallet  Takeaway          UNKNOWN  \n",
       "freq              2291      3022              159  "
      ]
     },
     "execution_count": 4,
     "metadata": {},
     "output_type": "execute_result"
    }
   ],
   "source": [
    "data.describe()"
   ]
  },
  {
   "cell_type": "code",
   "execution_count": 5,
   "id": "ab41c9af",
   "metadata": {},
   "outputs": [
    {
     "name": "stdout",
     "output_type": "stream",
     "text": [
      "<class 'pandas.core.frame.DataFrame'>\n",
      "RangeIndex: 10000 entries, 0 to 9999\n",
      "Data columns (total 8 columns):\n",
      " #   Column            Non-Null Count  Dtype \n",
      "---  ------            --------------  ----- \n",
      " 0   Transaction ID    10000 non-null  object\n",
      " 1   Item              9667 non-null   object\n",
      " 2   Quantity          9862 non-null   object\n",
      " 3   Price Per Unit    9821 non-null   object\n",
      " 4   Total Spent       9827 non-null   object\n",
      " 5   Payment Method    7421 non-null   object\n",
      " 6   Location          6735 non-null   object\n",
      " 7   Transaction Date  9841 non-null   object\n",
      "dtypes: object(8)\n",
      "memory usage: 625.1+ KB\n"
     ]
    }
   ],
   "source": [
    "data.info()"
   ]
  },
  {
   "cell_type": "code",
   "execution_count": 6,
   "id": "ec356106",
   "metadata": {},
   "outputs": [],
   "source": [
    "#Numeric Columns: Convert Quantity, Price Per Unit, and Total Spent to numeric types:\n",
    "data[['Quantity', 'Price Per Unit', 'Total Spent']] = data[['Quantity', 'Price Per Unit', 'Total Spent']].apply(pd.to_numeric, errors='coerce')"
   ]
  },
  {
   "cell_type": "code",
   "execution_count": 7,
   "id": "16940f26",
   "metadata": {},
   "outputs": [],
   "source": [
    "\n",
    "data['Transaction Date'] = pd.to_datetime(data['Transaction Date'], errors='coerce', format='%Y-%m-%d')\n"
   ]
  },
  {
   "cell_type": "code",
   "execution_count": 8,
   "id": "0cfbe599",
   "metadata": {},
   "outputs": [],
   "source": [
    "#Replace \"UNKNOWN\" and \"ERROR\" with NaN for consistency:\n",
    "data.replace(['UNKNOWN', 'ERROR', 'UnKNOWN'], pd.NA, inplace=True)"
   ]
  },
  {
   "cell_type": "code",
   "execution_count": 9,
   "id": "7a206354",
   "metadata": {},
   "outputs": [
    {
     "name": "stderr",
     "output_type": "stream",
     "text": [
      "C:\\Users\\SKULL\\AppData\\Local\\Temp\\ipykernel_8388\\4095783206.py:7: FutureWarning: A value is trying to be set on a copy of a DataFrame or Series through chained assignment using an inplace method.\n",
      "The behavior will change in pandas 3.0. This inplace method will never work because the intermediate object on which we are setting values always behaves as a copy.\n",
      "\n",
      "For example, when doing 'df[col].method(value, inplace=True)', try using 'df.method({col: value}, inplace=True)' or df[col] = df[col].method(value) instead, to perform the operation inplace on the original object.\n",
      "\n",
      "\n",
      "  data[col].fillna(median_value, inplace=True)\n",
      "C:\\Users\\SKULL\\AppData\\Local\\Temp\\ipykernel_8388\\4095783206.py:7: FutureWarning: A value is trying to be set on a copy of a DataFrame or Series through chained assignment using an inplace method.\n",
      "The behavior will change in pandas 3.0. This inplace method will never work because the intermediate object on which we are setting values always behaves as a copy.\n",
      "\n",
      "For example, when doing 'df[col].method(value, inplace=True)', try using 'df.method({col: value}, inplace=True)' or df[col] = df[col].method(value) instead, to perform the operation inplace on the original object.\n",
      "\n",
      "\n",
      "  data[col].fillna(median_value, inplace=True)\n",
      "C:\\Users\\SKULL\\AppData\\Local\\Temp\\ipykernel_8388\\4095783206.py:7: FutureWarning: A value is trying to be set on a copy of a DataFrame or Series through chained assignment using an inplace method.\n",
      "The behavior will change in pandas 3.0. This inplace method will never work because the intermediate object on which we are setting values always behaves as a copy.\n",
      "\n",
      "For example, when doing 'df[col].method(value, inplace=True)', try using 'df.method({col: value}, inplace=True)' or df[col] = df[col].method(value) instead, to perform the operation inplace on the original object.\n",
      "\n",
      "\n",
      "  data[col].fillna(median_value, inplace=True)\n"
     ]
    }
   ],
   "source": [
    "# List of numeric columns\n",
    "numeric_cols = ['Quantity', 'Price Per Unit', 'Total Spent']\n",
    "\n",
    "# Fill missing values with the median of each column\n",
    "for col in numeric_cols:\n",
    "    median_value = data[col].median()\n",
    "    data[col].fillna(median_value, inplace=True)\n"
   ]
  },
  {
   "cell_type": "code",
   "execution_count": 10,
   "id": "23db7abe",
   "metadata": {},
   "outputs": [
    {
     "name": "stderr",
     "output_type": "stream",
     "text": [
      "C:\\Users\\SKULL\\AppData\\Local\\Temp\\ipykernel_8388\\3972576573.py:7: FutureWarning: A value is trying to be set on a copy of a DataFrame or Series through chained assignment using an inplace method.\n",
      "The behavior will change in pandas 3.0. This inplace method will never work because the intermediate object on which we are setting values always behaves as a copy.\n",
      "\n",
      "For example, when doing 'df[col].method(value, inplace=True)', try using 'df.method({col: value}, inplace=True)' or df[col] = df[col].method(value) instead, to perform the operation inplace on the original object.\n",
      "\n",
      "\n",
      "  data[col].fillna(mode_value, inplace=True)\n"
     ]
    }
   ],
   "source": [
    "# List of categorical columns\n",
    "categorical_cols = ['Item', 'Payment Method', 'Location']\n",
    "\n",
    "# Fill missing values with the mode (most frequent value) of each column\n",
    "for col in categorical_cols:\n",
    "    mode_value = data[col].mode().iloc[0]  # Get the most frequent value\n",
    "    data[col].fillna(mode_value, inplace=True)\n"
   ]
  },
  {
   "cell_type": "code",
   "execution_count": 11,
   "id": "f099ebb0",
   "metadata": {},
   "outputs": [],
   "source": [
    "# Categorical Data Standardization\n",
    "categorical_cols = ['Item', 'Payment Method', 'Location']\n",
    "\n",
    "for col in categorical_cols:\n",
    "    data[col] = data[col].str.upper()\n"
   ]
  },
  {
   "cell_type": "code",
   "execution_count": 12,
   "id": "066c81f2",
   "metadata": {},
   "outputs": [],
   "source": [
    "#Check for duplicate Transaction ID:\n",
    "data.drop_duplicates(subset=['Transaction ID'], inplace=True)"
   ]
  },
  {
   "cell_type": "code",
   "execution_count": 13,
   "id": "75b1cb65",
   "metadata": {},
   "outputs": [
    {
     "name": "stdout",
     "output_type": "stream",
     "text": [
      "<class 'pandas.core.frame.DataFrame'>\n",
      "RangeIndex: 10000 entries, 0 to 9999\n",
      "Data columns (total 8 columns):\n",
      " #   Column            Non-Null Count  Dtype         \n",
      "---  ------            --------------  -----         \n",
      " 0   Transaction ID    10000 non-null  object        \n",
      " 1   Item              10000 non-null  object        \n",
      " 2   Quantity          10000 non-null  float64       \n",
      " 3   Price Per Unit    10000 non-null  float64       \n",
      " 4   Total Spent       10000 non-null  float64       \n",
      " 5   Payment Method    10000 non-null  object        \n",
      " 6   Location          10000 non-null  object        \n",
      " 7   Transaction Date  9540 non-null   datetime64[ns]\n",
      "dtypes: datetime64[ns](1), float64(3), object(4)\n",
      "memory usage: 625.1+ KB\n"
     ]
    }
   ],
   "source": [
    "data.info()"
   ]
  },
  {
   "cell_type": "code",
   "execution_count": 14,
   "id": "17400331",
   "metadata": {},
   "outputs": [
    {
     "data": {
      "text/plain": [
       "(10000, 8)"
      ]
     },
     "execution_count": 14,
     "metadata": {},
     "output_type": "execute_result"
    }
   ],
   "source": [
    "data.shape"
   ]
  },
  {
   "cell_type": "code",
   "execution_count": 15,
   "id": "c02be11c",
   "metadata": {},
   "outputs": [],
   "source": [
    "data = data.dropna(subset=['Transaction Date'])\n"
   ]
  },
  {
   "cell_type": "code",
   "execution_count": 16,
   "id": "bee8fd01",
   "metadata": {},
   "outputs": [
    {
     "name": "stdout",
     "output_type": "stream",
     "text": [
      "Transaction ID      0\n",
      "Item                0\n",
      "Quantity            0\n",
      "Price Per Unit      0\n",
      "Total Spent         0\n",
      "Payment Method      0\n",
      "Location            0\n",
      "Transaction Date    0\n",
      "dtype: int64\n"
     ]
    }
   ],
   "source": [
    "# See how many missing values exist in each column\n",
    "print(data.isnull().sum())\n"
   ]
  },
  {
   "cell_type": "code",
   "execution_count": 17,
   "id": "b4ef9c11",
   "metadata": {},
   "outputs": [
    {
     "name": "stdout",
     "output_type": "stream",
     "text": [
      "Transaction ID              object\n",
      "Item                        object\n",
      "Quantity                   float64\n",
      "Price Per Unit             float64\n",
      "Total Spent                float64\n",
      "Payment Method              object\n",
      "Location                    object\n",
      "Transaction Date    datetime64[ns]\n",
      "dtype: object\n"
     ]
    }
   ],
   "source": [
    "print(data.dtypes)\n"
   ]
  },
  {
   "cell_type": "code",
   "execution_count": 18,
   "id": "dde8693c",
   "metadata": {},
   "outputs": [
    {
     "data": {
      "image/png": "[encoded data removed]",
      "text/plain": [
       "<Figure size 640x480 with 1 Axes>"
      ]
     },
     "metadata": {},
     "output_type": "display_data"
    }
   ],
   "source": [
    "#detecting outlier\n",
    "import seaborn as sns\n",
    "import matplotlib.pyplot as plt\n",
    "\n",
    "sns.boxplot(data['Total Spent'])\n",
    "plt.show()\n"
   ]
  },
  {
   "cell_type": "code",
   "execution_count": 19,
   "id": "14f544d7",
   "metadata": {},
   "outputs": [
    {
     "name": "stdout",
     "output_type": "stream",
     "text": [
      "✅ Cleaned dataset shape: (9290, 8)\n"
     ]
    }
   ],
   "source": [
    "import pandas as pd\n",
    "\n",
    "# Select only numeric columns\n",
    "numeric_cols = data.select_dtypes(include=['float64', 'int64']).columns\n",
    "\n",
    "# Loop through each numeric column and filter out outliers using IQR\n",
    "for col in numeric_cols:\n",
    "    Q1 = data[col].quantile(0.25)\n",
    "    Q3 = data[col].quantile(0.75)\n",
    "    IQR = Q3 - Q1\n",
    "    lower_bound = Q1 - 1.5 * IQR\n",
    "    upper_bound = Q3 + 1.5 * IQR\n",
    "    # Keep only the rows where the column is within bounds\n",
    "    data = data[(data[col] >= lower_bound) & (data[col] <= upper_bound)]\n",
    "\n",
    "# Check the cleaned dataset\n",
    "print(\"✅ Cleaned dataset shape:\", data.shape)\n"
   ]
  },
  {
   "cell_type": "code",
   "execution_count": 20,
   "id": "c621e53e",
   "metadata": {},
   "outputs": [
    {
     "name": "stdout",
     "output_type": "stream",
     "text": [
      "{'Quantity': {'outlier_count': 0, 'percent_of_data': 0.0}, 'Price Per Unit': {'outlier_count': 0, 'percent_of_data': 0.0}, 'Total Spent': {'outlier_count': 0, 'percent_of_data': 0.0}}\n"
     ]
    }
   ],
   "source": [
    "outlier_info = {}\n",
    "\n",
    "for col in numeric_cols:\n",
    "    Q1 = data[col].quantile(0.25)\n",
    "    Q3 = data[col].quantile(0.75)\n",
    "    IQR = Q3 - Q1\n",
    "    lower_bound = Q1 - 1.5 * IQR\n",
    "    upper_bound = Q3 + 1.5 * IQR\n",
    "\n",
    "    # Find outliers\n",
    "    outliers = data[(data[col] < lower_bound) | (data[col] > upper_bound)]\n",
    "    outlier_info[col] = {\n",
    "        'outlier_count': outliers.shape[0],\n",
    "        'percent_of_data': 100 * outliers.shape[0] / data.shape[0]\n",
    "    }\n",
    "\n",
    "# Show summary\n",
    "print(outlier_info)\n"
   ]
  },
  {
   "cell_type": "code",
   "execution_count": 21,
   "id": "e3e93b3a",
   "metadata": {},
   "outputs": [
    {
     "name": "stdout",
     "output_type": "stream",
     "text": [
      "Value counts in 'Transaction ID':\n",
      "Transaction ID\n",
      "TXN_6170729    1\n",
      "TXN_1961373    1\n",
      "TXN_4977031    1\n",
      "TXN_4271903    1\n",
      "TXN_7034554    1\n",
      "              ..\n",
      "TXN_3765707    1\n",
      "TXN_2847255    1\n",
      "TXN_8915701    1\n",
      "TXN_9437049    1\n",
      "TXN_7619095    1\n",
      "Name: count, Length: 9290, dtype: int64\n",
      "----------------------------------------\n",
      "Value counts in 'Item':\n",
      "Item\n",
      "JUICE       2030\n",
      "COFFEE      1123\n",
      "CAKE        1082\n",
      "SANDWICH    1075\n",
      "SMOOTHIE    1048\n",
      "COOKIE      1035\n",
      "TEA         1027\n",
      "SALAD        870\n",
      "Name: count, dtype: int64\n",
      "----------------------------------------\n",
      "Value counts in 'Payment Method':\n",
      "Payment Method\n",
      "DIGITAL WALLET    5085\n",
      "CREDIT CARD       2107\n",
      "CASH              2098\n",
      "Name: count, dtype: int64\n",
      "----------------------------------------\n",
      "Value counts in 'Location':\n",
      "Location\n",
      "TAKEAWAY    6498\n",
      "IN-STORE    2792\n",
      "Name: count, dtype: int64\n",
      "----------------------------------------\n"
     ]
    }
   ],
   "source": [
    "cat_cols = data.select_dtypes(include=['object', 'category']).columns\n",
    "\n",
    "for col in cat_cols:\n",
    "    print(f\"Value counts in '{col}':\")\n",
    "    print(data[col].value_counts())\n",
    "    print('-' * 40)\n"
   ]
  },
  {
   "cell_type": "code",
   "execution_count": 22,
   "id": "c63181f0",
   "metadata": {},
   "outputs": [
    {
     "data": {
      "image/png": "[encoded data removed]",
      "text/plain": [
       "<Figure size 640x480 with 1 Axes>"
      ]
     },
     "metadata": {},
     "output_type": "display_data"
    }
   ],
   "source": [
    "sns.histplot(data['Total Spent'], kde=True)\n",
    "plt.show()\n"
   ]
  },
  {
   "cell_type": "code",
   "execution_count": 23,
   "id": "b501454e",
   "metadata": {},
   "outputs": [],
   "source": [
    "import numpy as np\n",
    "data['Total Spent'] = np.log1p(data['Total Spent'])  \n"
   ]
  },
  {
   "cell_type": "code",
   "execution_count": 24,
   "id": "e23d9e66",
   "metadata": {},
   "outputs": [
    {
     "name": "stdout",
     "output_type": "stream",
     "text": [
      "Unique counts for categorical variables:\n",
      "• Item: 8\n",
      "• Location: 2\n",
      "• Payment Method: 3\n"
     ]
    }
   ],
   "source": [
    "print(\"Unique counts for categorical variables:\")\n",
    "print(\"• Item:\", data['Item'].nunique())\n",
    "print(\"• Location:\", data['Location'].nunique())\n",
    "print(\"• Payment Method:\", data['Payment Method'].nunique())\n"
   ]
  },
  {
   "cell_type": "code",
   "execution_count": 25,
   "id": "75ea9d94",
   "metadata": {},
   "outputs": [],
   "source": [
    "# Define the columns to clean\n",
    "cat_cols = ['Item', 'Location', 'Payment Method']\n",
    "\n",
    "# Replace rare categories (appearing less than 10 times) with \"Other\"\n",
    "for col in cat_cols:\n",
    "    counts = data[col].value_counts()\n",
    "    rare_categories = counts[counts < 10].index\n",
    "    data[col] = data[col].replace(rare_categories, 'Other')\n"
   ]
  },
  {
   "cell_type": "code",
   "execution_count": 26,
   "id": "862689b5",
   "metadata": {},
   "outputs": [
    {
     "name": "stdout",
     "output_type": "stream",
     "text": [
      "\n",
      "Updated counts of unique categories:\n",
      "Item\n",
      "JUICE       2030\n",
      "COFFEE      1123\n",
      "CAKE        1082\n",
      "SANDWICH    1075\n",
      "SMOOTHIE    1048\n",
      "COOKIE      1035\n",
      "TEA         1027\n",
      "SALAD        870\n",
      "Name: count, dtype: int64\n",
      "Location\n",
      "TAKEAWAY    6498\n",
      "IN-STORE    2792\n",
      "Name: count, dtype: int64\n",
      "Payment Method\n",
      "DIGITAL WALLET    5085\n",
      "CREDIT CARD       2107\n",
      "CASH              2098\n",
      "Name: count, dtype: int64\n"
     ]
    }
   ],
   "source": [
    "print(\"\\nUpdated counts of unique categories:\")\n",
    "print(data['Item'].value_counts())\n",
    "print(data['Location'].value_counts())\n",
    "print(data['Payment Method'].value_counts())\n"
   ]
  },
  {
   "cell_type": "code",
   "execution_count": 27,
   "id": "192a56d8",
   "metadata": {},
   "outputs": [
    {
     "name": "stdout",
     "output_type": "stream",
     "text": [
      "Duplicate rows: 0\n"
     ]
    }
   ],
   "source": [
    "\n",
    "print(\"Duplicate rows:\", data.duplicated().sum())\n"
   ]
  },
  {
   "cell_type": "code",
   "execution_count": 28,
   "id": "38d80aa2",
   "metadata": {},
   "outputs": [],
   "source": [
    "data = data.drop_duplicates()\n"
   ]
  },
  {
   "cell_type": "code",
   "execution_count": 29,
   "id": "77573d22",
   "metadata": {},
   "outputs": [
    {
     "data": {
      "text/html": [
       "<div>\n",
       "<style scoped>\n",
       "    .dataframe tbody tr th:only-of-type {\n",
       "        vertical-align: middle;\n",
       "    }\n",
       "\n",
       "    .dataframe tbody tr th {\n",
       "        vertical-align: top;\n",
       "    }\n",
       "\n",
       "    .dataframe thead th {\n",
       "        text-align: right;\n",
       "    }\n",
       "</style>\n",
       "<table border=\"1\" class=\"dataframe\">\n",
       "  <thead>\n",
       "    <tr style=\"text-align: right;\">\n",
       "      <th></th>\n",
       "      <th>Transaction ID</th>\n",
       "      <th>Item</th>\n",
       "      <th>Quantity</th>\n",
       "      <th>Price Per Unit</th>\n",
       "      <th>Total Spent</th>\n",
       "      <th>Payment Method</th>\n",
       "      <th>Location</th>\n",
       "      <th>Transaction Date</th>\n",
       "    </tr>\n",
       "  </thead>\n",
       "  <tbody>\n",
       "    <tr>\n",
       "      <th>0</th>\n",
       "      <td>TXN_1961373</td>\n",
       "      <td>COFFEE</td>\n",
       "      <td>2.0</td>\n",
       "      <td>2.0</td>\n",
       "      <td>1.609438</td>\n",
       "      <td>CREDIT CARD</td>\n",
       "      <td>TAKEAWAY</td>\n",
       "      <td>2023-09-08</td>\n",
       "    </tr>\n",
       "    <tr>\n",
       "      <th>1</th>\n",
       "      <td>TXN_4977031</td>\n",
       "      <td>CAKE</td>\n",
       "      <td>4.0</td>\n",
       "      <td>3.0</td>\n",
       "      <td>2.564949</td>\n",
       "      <td>CASH</td>\n",
       "      <td>IN-STORE</td>\n",
       "      <td>2023-05-16</td>\n",
       "    </tr>\n",
       "    <tr>\n",
       "      <th>2</th>\n",
       "      <td>TXN_4271903</td>\n",
       "      <td>COOKIE</td>\n",
       "      <td>4.0</td>\n",
       "      <td>1.0</td>\n",
       "      <td>2.197225</td>\n",
       "      <td>CREDIT CARD</td>\n",
       "      <td>IN-STORE</td>\n",
       "      <td>2023-07-19</td>\n",
       "    </tr>\n",
       "    <tr>\n",
       "      <th>3</th>\n",
       "      <td>TXN_7034554</td>\n",
       "      <td>SALAD</td>\n",
       "      <td>2.0</td>\n",
       "      <td>5.0</td>\n",
       "      <td>2.397895</td>\n",
       "      <td>DIGITAL WALLET</td>\n",
       "      <td>TAKEAWAY</td>\n",
       "      <td>2023-04-27</td>\n",
       "    </tr>\n",
       "    <tr>\n",
       "      <th>4</th>\n",
       "      <td>TXN_3160411</td>\n",
       "      <td>COFFEE</td>\n",
       "      <td>2.0</td>\n",
       "      <td>2.0</td>\n",
       "      <td>1.609438</td>\n",
       "      <td>DIGITAL WALLET</td>\n",
       "      <td>IN-STORE</td>\n",
       "      <td>2023-06-11</td>\n",
       "    </tr>\n",
       "  </tbody>\n",
       "</table>\n",
       "</div>"
      ],
      "text/plain": [
       "  Transaction ID    Item  Quantity  Price Per Unit  Total Spent  \\\n",
       "0    TXN_1961373  COFFEE       2.0             2.0     1.609438   \n",
       "1    TXN_4977031    CAKE       4.0             3.0     2.564949   \n",
       "2    TXN_4271903  COOKIE       4.0             1.0     2.197225   \n",
       "3    TXN_7034554   SALAD       2.0             5.0     2.397895   \n",
       "4    TXN_3160411  COFFEE       2.0             2.0     1.609438   \n",
       "\n",
       "   Payment Method  Location Transaction Date  \n",
       "0     CREDIT CARD  TAKEAWAY       2023-09-08  \n",
       "1            CASH  IN-STORE       2023-05-16  \n",
       "2     CREDIT CARD  IN-STORE       2023-07-19  \n",
       "3  DIGITAL WALLET  TAKEAWAY       2023-04-27  \n",
       "4  DIGITAL WALLET  IN-STORE       2023-06-11  "
      ]
     },
     "execution_count": 29,
     "metadata": {},
     "output_type": "execute_result"
    }
   ],
   "source": [
    "data.head()"
   ]
  },
  {
   "cell_type": "code",
   "execution_count": 30,
   "id": "df77b098",
   "metadata": {},
   "outputs": [
    {
     "name": "stdout",
     "output_type": "stream",
     "text": [
      "   Location   total_sales  total_quantity  average_spend  average_quantity  \\\n",
      "0  IN-STORE   5818.341421          8309.0       2.083933          2.976003   \n",
      "1  TAKEAWAY  13460.129760         19317.0       2.071427          2.972761   \n",
      "\n",
      "   average_growth  \n",
      "0       -0.126086  \n",
      "1        0.267046  \n"
     ]
    },
    {
     "data": {
      "image/png": "[encoded data removed]",
      "text/plain": [
       "<Figure size 1000x600 with 1 Axes>"
      ]
     },
     "metadata": {},
     "output_type": "display_data"
    },
    {
     "data": {
      "image/png": "[encoded data removed]",
      "text/plain": [
       "<Figure size 1000x600 with 1 Axes>"
      ]
     },
     "metadata": {},
     "output_type": "display_data"
    }
   ],
   "source": [
    "import pandas as pd\n",
    "import matplotlib.pyplot as plt\n",
    "\n",
    "\n",
    "\n",
    "# Group by Location and calculate total sales, total quantity, average spend, and sales growth\n",
    "data['Transaction Date'] = pd.to_datetime(data['Transaction Date'])  \n",
    "data['Month'] = data['Transaction Date'].dt.to_period('M')  \n",
    "\n",
    "# Group by Location to get total sales and other statistics\n",
    "region_sales = data.groupby('Location').agg(\n",
    "    total_sales=('Total Spent', 'sum'),\n",
    "    total_quantity=('Quantity', 'sum'),\n",
    "    average_spend=('Total Spent', 'mean'),\n",
    "    average_quantity=('Quantity', 'mean')\n",
    ").reset_index()\n",
    "\n",
    "\n",
    "# We will use the 'Month' column and calculate the sum of total sales by month and region\n",
    "monthly_sales = data.groupby(['Location', 'Month']).agg(\n",
    "    total_sales_month=('Total Spent', 'sum')\n",
    ").reset_index()\n",
    "\n",
    "# Calculate the growth in sales by region over months\n",
    "monthly_sales['previous_sales'] = monthly_sales.groupby('Location')['total_sales_month'].shift(1)\n",
    "monthly_sales['sales_growth'] = (monthly_sales['total_sales_month'] - monthly_sales['previous_sales']) / monthly_sales['previous_sales'] * 100\n",
    "monthly_sales = monthly_sales.dropna() \n",
    "\n",
    "# Merge sales growth with region-level summary\n",
    "region_sales_growth = monthly_sales.groupby('Location').agg(\n",
    "    average_growth=('sales_growth', 'mean')\n",
    ").reset_index()\n",
    "\n",
    "# Combine region-level sales analysis and sales growth data\n",
    "region_analysis = pd.merge(region_sales, region_sales_growth, on='Location', how='left')\n",
    "\n",
    "# Display the final results (Total Sales, Average Sales, Growth)\n",
    "print(region_analysis)\n",
    "\n",
    "# Visualization - Bar plot of Total Sales by Region\n",
    "plt.figure(figsize=(10, 6))\n",
    "plt.bar(region_analysis['Location'], region_analysis['total_sales'], color='skyblue')\n",
    "plt.xlabel('Location')\n",
    "plt.ylabel('Total Sales')\n",
    "plt.title('Total Sales by Region')\n",
    "plt.xticks(rotation=45, ha='right')\n",
    "plt.tight_layout()\n",
    "plt.show()\n",
    "\n",
    "# Visualization - Sales Growth by Region (Average Growth)\n",
    "plt.figure(figsize=(10, 6))\n",
    "plt.bar(region_analysis['Location'], region_analysis['average_growth'], color='lightgreen')\n",
    "plt.xlabel('Location')\n",
    "plt.ylabel('Average Sales Growth (%)')\n",
    "plt.title('Average Sales Growth by Region')\n",
    "plt.xticks(rotation=45, ha='right')\n",
    "plt.tight_layout()\n",
    "plt.show()\n"
   ]
  }
 ],
 "metadata": {
  "kernelspec": {
   "display_name": "Python 3",
   "language": "python",
   "name": "python3"
  },
  "language_info": {
   "codemirror_mode": {
    "name": "ipython",
    "version": 3
   },
   "file_extension": ".py",
   "mimetype": "text/x-python",
   "name": "python",
   "nbconvert_exporter": "python",
   "pygments_lexer": "ipython3",
   "version": "3.13.3"
  }
 },
 "nbformat": 4,
 "nbformat_minor": 5
}
