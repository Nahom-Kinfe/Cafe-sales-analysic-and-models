{
 "cells": [
  {
   "cell_type": "code",
   "execution_count": 1,
   "id": "7b2d5981",
   "metadata": {},
   "outputs": [],
   "source": [
    "import pandas as pd\n",
    "import numpy as np\n",
    "from sklearn.metrics import mean_absolute_error, mean_squared_error, r2_score\n"
   ]
  },
  {
   "cell_type": "code",
   "execution_count": 2,
   "id": "9c0fa816",
   "metadata": {},
   "outputs": [],
   "source": [
    "data = pd.read_csv(r\"dirty_cafe_sales.csv\")"
   ]
  },
  {
   "cell_type": "code",
   "execution_count": null,
   "id": "a26ffa06",
   "metadata": {},
   "outputs": [],
   "source": [
    "\n"
   ]
  },
  {
   "cell_type": "code",
   "execution_count": 3,
   "id": "51ab4a48",
   "metadata": {},
   "outputs": [
    {
     "data": {
      "text/html": [
       "<div>\n",
       "<style scoped>\n",
       "    .dataframe tbody tr th:only-of-type {\n",
       "        vertical-align: middle;\n",
       "    }\n",
       "\n",
       "    .dataframe tbody tr th {\n",
       "        vertical-align: top;\n",
       "    }\n",
       "\n",
       "    .dataframe thead th {\n",
       "        text-align: right;\n",
       "    }\n",
       "</style>\n",
       "<table border=\"1\" class=\"dataframe\">\n",
       "  <thead>\n",
       "    <tr style=\"text-align: right;\">\n",
       "      <th></th>\n",
       "      <th>Transaction ID</th>\n",
       "      <th>Item</th>\n",
       "      <th>Quantity</th>\n",
       "      <th>Price Per Unit</th>\n",
       "      <th>Total Spent</th>\n",
       "      <th>Payment Method</th>\n",
       "      <th>Location</th>\n",
       "      <th>Transaction Date</th>\n",
       "    </tr>\n",
       "  </thead>\n",
       "  <tbody>\n",
       "    <tr>\n",
       "      <th>count</th>\n",
       "      <td>10000</td>\n",
       "      <td>9667</td>\n",
       "      <td>9862</td>\n",
       "      <td>9821</td>\n",
       "      <td>9827</td>\n",
       "      <td>7421</td>\n",
       "      <td>6735</td>\n",
       "      <td>9841</td>\n",
       "    </tr>\n",
       "    <tr>\n",
       "      <th>unique</th>\n",
       "      <td>10000</td>\n",
       "      <td>10</td>\n",
       "      <td>7</td>\n",
       "      <td>8</td>\n",
       "      <td>19</td>\n",
       "      <td>5</td>\n",
       "      <td>4</td>\n",
       "      <td>367</td>\n",
       "    </tr>\n",
       "    <tr>\n",
       "      <th>top</th>\n",
       "      <td>TXN_9226047</td>\n",
       "      <td>Juice</td>\n",
       "      <td>5</td>\n",
       "      <td>3.0</td>\n",
       "      <td>6.0</td>\n",
       "      <td>Digital Wallet</td>\n",
       "      <td>Takeaway</td>\n",
       "      <td>UNKNOWN</td>\n",
       "    </tr>\n",
       "    <tr>\n",
       "      <th>freq</th>\n",
       "      <td>1</td>\n",
       "      <td>1171</td>\n",
       "      <td>2013</td>\n",
       "      <td>2429</td>\n",
       "      <td>979</td>\n",
       "      <td>2291</td>\n",
       "      <td>3022</td>\n",
       "      <td>159</td>\n",
       "    </tr>\n",
       "  </tbody>\n",
       "</table>\n",
       "</div>"
      ],
      "text/plain": [
       "       Transaction ID   Item Quantity Price Per Unit Total Spent  \\\n",
       "count           10000   9667     9862           9821        9827   \n",
       "unique          10000     10        7              8          19   \n",
       "top       TXN_9226047  Juice        5            3.0         6.0   \n",
       "freq                1   1171     2013           2429         979   \n",
       "\n",
       "        Payment Method  Location Transaction Date  \n",
       "count             7421      6735             9841  \n",
       "unique               5         4              367  \n",
       "top     Digital Wallet  Takeaway          UNKNOWN  \n",
       "freq              2291      3022              159  "
      ]
     },
     "execution_count": 3,
     "metadata": {},
     "output_type": "execute_result"
    }
   ],
   "source": [
    "data.describe()"
   ]
  },
  {
   "cell_type": "code",
   "execution_count": 4,
   "id": "ee5befea",
   "metadata": {},
   "outputs": [
    {
     "name": "stdout",
     "output_type": "stream",
     "text": [
      "<class 'pandas.core.frame.DataFrame'>\n",
      "RangeIndex: 10000 entries, 0 to 9999\n",
      "Data columns (total 8 columns):\n",
      " #   Column            Non-Null Count  Dtype \n",
      "---  ------            --------------  ----- \n",
      " 0   Transaction ID    10000 non-null  object\n",
      " 1   Item              9667 non-null   object\n",
      " 2   Quantity          9862 non-null   object\n",
      " 3   Price Per Unit    9821 non-null   object\n",
      " 4   Total Spent       9827 non-null   object\n",
      " 5   Payment Method    7421 non-null   object\n",
      " 6   Location          6735 non-null   object\n",
      " 7   Transaction Date  9841 non-null   object\n",
      "dtypes: object(8)\n",
      "memory usage: 625.1+ KB\n"
     ]
    }
   ],
   "source": [
    "data.info()"
   ]
  },
  {
   "cell_type": "code",
   "execution_count": 5,
   "id": "7a3daeb2",
   "metadata": {},
   "outputs": [
    {
     "name": "stdout",
     "output_type": "stream",
     "text": [
      "Transaction ID         0\n",
      "Item                 333\n",
      "Quantity             138\n",
      "Price Per Unit       179\n",
      "Total Spent          173\n",
      "Payment Method      2579\n",
      "Location            3265\n",
      "Transaction Date     159\n",
      "dtype: int64\n"
     ]
    }
   ],
   "source": [
    "print(data.isnull().sum())"
   ]
  },
  {
   "cell_type": "code",
   "execution_count": 6,
   "id": "47d28f97",
   "metadata": {},
   "outputs": [],
   "source": [
    "#Numeric Columns: Convert Quantity, Price Per Unit, and Total Spent to numeric types:\n",
    "data[['Quantity', 'Price Per Unit', 'Total Spent']] = data[['Quantity', 'Price Per Unit', 'Total Spent']].apply(pd.to_numeric, errors='coerce')"
   ]
  },
  {
   "cell_type": "code",
   "execution_count": 7,
   "id": "382b70a4",
   "metadata": {},
   "outputs": [],
   "source": [
    "\n",
    "data['Transaction Date'] = pd.to_datetime(data['Transaction Date'], errors='coerce', format='%Y-%m-%d')\n"
   ]
  },
  {
   "cell_type": "code",
   "execution_count": 8,
   "id": "ebeb8c1b",
   "metadata": {},
   "outputs": [],
   "source": [
    "#Replace \"UNKNOWN\" and \"ERROR\" with NaN for consistency:\n",
    "data.replace(['UNKNOWN', 'ERROR', 'UnKNOWN'], pd.NA, inplace=True)"
   ]
  },
  {
   "cell_type": "code",
   "execution_count": 9,
   "id": "9a181d17",
   "metadata": {},
   "outputs": [
    {
     "name": "stderr",
     "output_type": "stream",
     "text": [
      "C:\\Users\\SKULL\\AppData\\Local\\Temp\\ipykernel_18640\\4095783206.py:7: FutureWarning: A value is trying to be set on a copy of a DataFrame or Series through chained assignment using an inplace method.\n",
      "The behavior will change in pandas 3.0. This inplace method will never work because the intermediate object on which we are setting values always behaves as a copy.\n",
      "\n",
      "For example, when doing 'df[col].method(value, inplace=True)', try using 'df.method({col: value}, inplace=True)' or df[col] = df[col].method(value) instead, to perform the operation inplace on the original object.\n",
      "\n",
      "\n",
      "  data[col].fillna(median_value, inplace=True)\n",
      "C:\\Users\\SKULL\\AppData\\Local\\Temp\\ipykernel_18640\\4095783206.py:7: FutureWarning: A value is trying to be set on a copy of a DataFrame or Series through chained assignment using an inplace method.\n",
      "The behavior will change in pandas 3.0. This inplace method will never work because the intermediate object on which we are setting values always behaves as a copy.\n",
      "\n",
      "For example, when doing 'df[col].method(value, inplace=True)', try using 'df.method({col: value}, inplace=True)' or df[col] = df[col].method(value) instead, to perform the operation inplace on the original object.\n",
      "\n",
      "\n",
      "  data[col].fillna(median_value, inplace=True)\n",
      "C:\\Users\\SKULL\\AppData\\Local\\Temp\\ipykernel_18640\\4095783206.py:7: FutureWarning: A value is trying to be set on a copy of a DataFrame or Series through chained assignment using an inplace method.\n",
      "The behavior will change in pandas 3.0. This inplace method will never work because the intermediate object on which we are setting values always behaves as a copy.\n",
      "\n",
      "For example, when doing 'df[col].method(value, inplace=True)', try using 'df.method({col: value}, inplace=True)' or df[col] = df[col].method(value) instead, to perform the operation inplace on the original object.\n",
      "\n",
      "\n",
      "  data[col].fillna(median_value, inplace=True)\n"
     ]
    }
   ],
   "source": [
    "# List of numeric columns\n",
    "numeric_cols = ['Quantity', 'Price Per Unit', 'Total Spent']\n",
    "\n",
    "# Fill missing values with the median of each column\n",
    "for col in numeric_cols:\n",
    "    median_value = data[col].median()\n",
    "    data[col].fillna(median_value, inplace=True)\n"
   ]
  },
  {
   "cell_type": "code",
   "execution_count": 10,
   "id": "341562fe",
   "metadata": {},
   "outputs": [
    {
     "name": "stderr",
     "output_type": "stream",
     "text": [
      "C:\\Users\\SKULL\\AppData\\Local\\Temp\\ipykernel_18640\\3972576573.py:7: FutureWarning: A value is trying to be set on a copy of a DataFrame or Series through chained assignment using an inplace method.\n",
      "The behavior will change in pandas 3.0. This inplace method will never work because the intermediate object on which we are setting values always behaves as a copy.\n",
      "\n",
      "For example, when doing 'df[col].method(value, inplace=True)', try using 'df.method({col: value}, inplace=True)' or df[col] = df[col].method(value) instead, to perform the operation inplace on the original object.\n",
      "\n",
      "\n",
      "  data[col].fillna(mode_value, inplace=True)\n"
     ]
    }
   ],
   "source": [
    "# List of categorical columns\n",
    "categorical_cols = ['Item', 'Payment Method', 'Location']\n",
    "\n",
    "# Fill missing values with the mode (most frequent value) of each column\n",
    "for col in categorical_cols:\n",
    "    mode_value = data[col].mode().iloc[0]  # Get the most frequent value\n",
    "    data[col].fillna(mode_value, inplace=True)\n"
   ]
  },
  {
   "cell_type": "code",
   "execution_count": 11,
   "id": "c3d6310a",
   "metadata": {},
   "outputs": [],
   "source": [
    "# Categorical Data Standardization\n",
    "categorical_cols = ['Item', 'Payment Method', 'Location']\n",
    "\n",
    "for col in categorical_cols:\n",
    "    data[col] = data[col].str.upper()\n"
   ]
  },
  {
   "cell_type": "code",
   "execution_count": 12,
   "id": "643da8fd",
   "metadata": {},
   "outputs": [],
   "source": [
    "#Check for duplicate Transaction ID:\n",
    "data.drop_duplicates(subset=['Transaction ID'], inplace=True)"
   ]
  },
  {
   "cell_type": "code",
   "execution_count": 13,
   "id": "36fff3f3",
   "metadata": {},
   "outputs": [
    {
     "name": "stdout",
     "output_type": "stream",
     "text": [
      "<class 'pandas.core.frame.DataFrame'>\n",
      "RangeIndex: 10000 entries, 0 to 9999\n",
      "Data columns (total 8 columns):\n",
      " #   Column            Non-Null Count  Dtype         \n",
      "---  ------            --------------  -----         \n",
      " 0   Transaction ID    10000 non-null  object        \n",
      " 1   Item              10000 non-null  object        \n",
      " 2   Quantity          10000 non-null  float64       \n",
      " 3   Price Per Unit    10000 non-null  float64       \n",
      " 4   Total Spent       10000 non-null  float64       \n",
      " 5   Payment Method    10000 non-null  object        \n",
      " 6   Location          10000 non-null  object        \n",
      " 7   Transaction Date  9540 non-null   datetime64[ns]\n",
      "dtypes: datetime64[ns](1), float64(3), object(4)\n",
      "memory usage: 625.1+ KB\n"
     ]
    }
   ],
   "source": [
    "data.info()"
   ]
  },
  {
   "cell_type": "code",
   "execution_count": 14,
   "id": "9083fafe",
   "metadata": {},
   "outputs": [
    {
     "data": {
      "text/plain": [
       "(10000, 8)"
      ]
     },
     "execution_count": 14,
     "metadata": {},
     "output_type": "execute_result"
    }
   ],
   "source": [
    "data.shape"
   ]
  },
  {
   "cell_type": "code",
   "execution_count": 15,
   "id": "e48d23d9",
   "metadata": {},
   "outputs": [],
   "source": [
    "data = data.dropna(subset=['Transaction Date'])\n"
   ]
  },
  {
   "cell_type": "code",
   "execution_count": 16,
   "id": "e4f5d9d3",
   "metadata": {},
   "outputs": [
    {
     "name": "stdout",
     "output_type": "stream",
     "text": [
      "Transaction ID      0\n",
      "Item                0\n",
      "Quantity            0\n",
      "Price Per Unit      0\n",
      "Total Spent         0\n",
      "Payment Method      0\n",
      "Location            0\n",
      "Transaction Date    0\n",
      "dtype: int64\n"
     ]
    }
   ],
   "source": [
    "# See how many missing values exist in each column\n",
    "print(data.isnull().sum())\n"
   ]
  },
  {
   "cell_type": "code",
   "execution_count": 17,
   "id": "fd462328",
   "metadata": {},
   "outputs": [
    {
     "name": "stdout",
     "output_type": "stream",
     "text": [
      "<class 'pandas.core.frame.DataFrame'>\n",
      "Index: 9540 entries, 0 to 9999\n",
      "Data columns (total 8 columns):\n",
      " #   Column            Non-Null Count  Dtype         \n",
      "---  ------            --------------  -----         \n",
      " 0   Transaction ID    9540 non-null   object        \n",
      " 1   Item              9540 non-null   object        \n",
      " 2   Quantity          9540 non-null   float64       \n",
      " 3   Price Per Unit    9540 non-null   float64       \n",
      " 4   Total Spent       9540 non-null   float64       \n",
      " 5   Payment Method    9540 non-null   object        \n",
      " 6   Location          9540 non-null   object        \n",
      " 7   Transaction Date  9540 non-null   datetime64[ns]\n",
      "dtypes: datetime64[ns](1), float64(3), object(4)\n",
      "memory usage: 670.8+ KB\n"
     ]
    }
   ],
   "source": [
    "data.info()\n"
   ]
  },
  {
   "cell_type": "code",
   "execution_count": 18,
   "id": "6bcc093b",
   "metadata": {},
   "outputs": [
    {
     "data": {
      "image/png": "[encoded data removed]",
      "text/plain": [
       "<Figure size 640x480 with 1 Axes>"
      ]
     },
     "metadata": {},
     "output_type": "display_data"
    }
   ],
   "source": [
    "#detecting outlier\n",
    "import seaborn as sns\n",
    "import matplotlib.pyplot as plt\n",
    "\n",
    "sns.boxplot(data['Total Spent'])\n",
    "plt.show()\n"
   ]
  },
  {
   "cell_type": "code",
   "execution_count": 19,
   "id": "796d5337",
   "metadata": {},
   "outputs": [
    {
     "name": "stdout",
     "output_type": "stream",
     "text": [
      "{'Quantity': {'outlier_count': 0, 'percent_of_data': 0.0}, 'Price Per Unit': {'outlier_count': 0, 'percent_of_data': 0.0}, 'Total Spent': {'outlier_count': 250, 'percent_of_data': 2.620545073375262}}\n"
     ]
    }
   ],
   "source": [
    "outlier_info = {}\n",
    "\n",
    "for col in numeric_cols:\n",
    "    Q1 = data[col].quantile(0.25)\n",
    "    Q3 = data[col].quantile(0.75)\n",
    "    IQR = Q3 - Q1\n",
    "    lower_bound = Q1 - 1.5 * IQR\n",
    "    upper_bound = Q3 + 1.5 * IQR\n",
    "\n",
    "    # Find outliers\n",
    "    outliers = data[(data[col] < lower_bound) | (data[col] > upper_bound)]\n",
    "    outlier_info[col] = {\n",
    "        'outlier_count': outliers.shape[0],\n",
    "        'percent_of_data': 100 * outliers.shape[0] / data.shape[0]\n",
    "    }\n",
    "\n",
    "# Show summary\n",
    "print(outlier_info)\n"
   ]
  },
  {
   "cell_type": "code",
   "execution_count": 20,
   "id": "7cb10594",
   "metadata": {},
   "outputs": [
    {
     "name": "stdout",
     "output_type": "stream",
     "text": [
      "✅ Cleaned dataset shape: (9290, 8)\n"
     ]
    }
   ],
   "source": [
    "import pandas as pd\n",
    "\n",
    "# Select only numeric columns\n",
    "numeric_cols = data.select_dtypes(include=['float64', 'int64']).columns\n",
    "\n",
    "# Loop through each numeric column and filter out outliers using IQR\n",
    "for col in numeric_cols:\n",
    "    Q1 = data[col].quantile(0.25)\n",
    "    Q3 = data[col].quantile(0.75)\n",
    "    IQR = Q3 - Q1\n",
    "    lower_bound = Q1 - 1.5 * IQR\n",
    "    upper_bound = Q3 + 1.5 * IQR\n",
    "    # Keep only the rows where the column is within bounds\n",
    "    data = data[(data[col] >= lower_bound) & (data[col] <= upper_bound)]\n",
    "\n",
    "# Check the cleaned dataset\n",
    "print(\"✅ Cleaned dataset shape:\", data.shape)\n"
   ]
  },
  {
   "cell_type": "code",
   "execution_count": 21,
   "id": "b4804faf",
   "metadata": {},
   "outputs": [
    {
     "name": "stdout",
     "output_type": "stream",
     "text": [
      "{'Price Per Unit': {'outlier_count': 0, 'percent_of_data': 0.0},\n",
      " 'Quantity': {'outlier_count': 0, 'percent_of_data': 0.0},\n",
      " 'Total Spent': {'outlier_count': 0, 'percent_of_data': 0.0}}\n"
     ]
    }
   ],
   "source": [
    "outlier_info = {}\n",
    "\n",
    "for col in numeric_cols:\n",
    "    Q1 = data[col].quantile(0.25)\n",
    "    Q3 = data[col].quantile(0.75)\n",
    "    IQR = Q3 - Q1\n",
    "    lower_bound = Q1 - 1.5 * IQR\n",
    "    upper_bound = Q3 + 1.5 * IQR\n",
    "\n",
    "    # Find outliers\n",
    "    outliers = data[(data[col] < lower_bound) | (data[col] > upper_bound)]\n",
    "    outlier_info[col] = {\n",
    "        'outlier_count': outliers.shape[0],\n",
    "        'percent_of_data': 100 * outliers.shape[0] / data.shape[0]\n",
    "    }\n",
    "\n",
    "# Show summary\n",
    "import pprint\n",
    "pprint.pprint(outlier_info)\n"
   ]
  },
  {
   "cell_type": "code",
   "execution_count": 22,
   "id": "6646bb25",
   "metadata": {},
   "outputs": [
    {
     "name": "stdout",
     "output_type": "stream",
     "text": [
      "Value counts in 'Transaction ID':\n",
      "Transaction ID\n",
      "TXN_6170729    1\n",
      "TXN_1961373    1\n",
      "TXN_4977031    1\n",
      "TXN_4271903    1\n",
      "TXN_7034554    1\n",
      "              ..\n",
      "TXN_3765707    1\n",
      "TXN_2847255    1\n",
      "TXN_8915701    1\n",
      "TXN_9437049    1\n",
      "TXN_7619095    1\n",
      "Name: count, Length: 9290, dtype: int64\n",
      "----------------------------------------\n",
      "Value counts in 'Item':\n",
      "Item\n",
      "JUICE       2030\n",
      "COFFEE      1123\n",
      "CAKE        1082\n",
      "SANDWICH    1075\n",
      "SMOOTHIE    1048\n",
      "COOKIE      1035\n",
      "TEA         1027\n",
      "SALAD        870\n",
      "Name: count, dtype: int64\n",
      "----------------------------------------\n",
      "Value counts in 'Payment Method':\n",
      "Payment Method\n",
      "DIGITAL WALLET    5085\n",
      "CREDIT CARD       2107\n",
      "CASH              2098\n",
      "Name: count, dtype: int64\n",
      "----------------------------------------\n",
      "Value counts in 'Location':\n",
      "Location\n",
      "TAKEAWAY    6498\n",
      "IN-STORE    2792\n",
      "Name: count, dtype: int64\n",
      "----------------------------------------\n"
     ]
    }
   ],
   "source": [
    "cat_cols = data.select_dtypes(include=['object', 'category']).columns\n",
    "\n",
    "for col in cat_cols:\n",
    "    print(f\"Value counts in '{col}':\")\n",
    "    print(data[col].value_counts())\n",
    "    print('-' * 40)\n"
   ]
  },
  {
   "cell_type": "code",
   "execution_count": 23,
   "id": "b372d374",
   "metadata": {},
   "outputs": [
    {
     "data": {
      "image/png": "[encoded data removed]",
      "text/plain": [
       "<Figure size 640x480 with 1 Axes>"
      ]
     },
     "metadata": {},
     "output_type": "display_data"
    }
   ],
   "source": [
    "sns.histplot(data['Total Spent'], kde=True)\n",
    "plt.show()\n"
   ]
  },
  {
   "cell_type": "code",
   "execution_count": 24,
   "id": "97b01404",
   "metadata": {},
   "outputs": [],
   "source": [
    "import numpy as np\n",
    "data['Total Spent'] = np.log1p(data['Total Spent'])  \n"
   ]
  },
  {
   "cell_type": "code",
   "execution_count": 25,
   "id": "6c1ab659",
   "metadata": {},
   "outputs": [
    {
     "name": "stdout",
     "output_type": "stream",
     "text": [
      "Unique counts for categorical variables:\n",
      "• Item: 8\n",
      "• Location: 2\n",
      "• Payment Method: 3\n"
     ]
    }
   ],
   "source": [
    "print(\"Unique counts for categorical variables:\")\n",
    "print(\"• Item:\", data['Item'].nunique())\n",
    "print(\"• Location:\", data['Location'].nunique())\n",
    "print(\"• Payment Method:\", data['Payment Method'].nunique())\n"
   ]
  },
  {
   "cell_type": "code",
   "execution_count": 26,
   "id": "60ae45d0",
   "metadata": {},
   "outputs": [],
   "source": [
    "# Define the columns to clean\n",
    "cat_cols = ['Item', 'Location', 'Payment Method']\n",
    "\n",
    "# Replace rare categories (appearing less than 10 times) with \"Other\"\n",
    "for col in cat_cols:\n",
    "    counts = data[col].value_counts()\n",
    "    rare_categories = counts[counts < 10].index\n",
    "    data[col] = data[col].replace(rare_categories, 'Other')\n"
   ]
  },
  {
   "cell_type": "code",
   "execution_count": 27,
   "id": "959b2d27",
   "metadata": {},
   "outputs": [
    {
     "name": "stdout",
     "output_type": "stream",
     "text": [
      "\n",
      "Updated counts of unique categories:\n",
      "Item\n",
      "JUICE       2030\n",
      "COFFEE      1123\n",
      "CAKE        1082\n",
      "SANDWICH    1075\n",
      "SMOOTHIE    1048\n",
      "COOKIE      1035\n",
      "TEA         1027\n",
      "SALAD        870\n",
      "Name: count, dtype: int64\n",
      "Location\n",
      "TAKEAWAY    6498\n",
      "IN-STORE    2792\n",
      "Name: count, dtype: int64\n",
      "Payment Method\n",
      "DIGITAL WALLET    5085\n",
      "CREDIT CARD       2107\n",
      "CASH              2098\n",
      "Name: count, dtype: int64\n"
     ]
    }
   ],
   "source": [
    "print(\"\\nUpdated counts of unique categories:\")\n",
    "print(data['Item'].value_counts())\n",
    "print(data['Location'].value_counts())\n",
    "print(data['Payment Method'].value_counts())\n"
   ]
  },
  {
   "cell_type": "code",
   "execution_count": 28,
   "id": "c65e7579",
   "metadata": {},
   "outputs": [
    {
     "name": "stdout",
     "output_type": "stream",
     "text": [
      "Duplicate rows: 0\n"
     ]
    }
   ],
   "source": [
    "\n",
    "print(\"Duplicate rows:\", data.duplicated().sum())\n"
   ]
  },
  {
   "cell_type": "code",
   "execution_count": 29,
   "id": "4c58da4f",
   "metadata": {},
   "outputs": [],
   "source": [
    "data = data.drop_duplicates()\n"
   ]
  },
  {
   "cell_type": "code",
   "execution_count": 30,
   "id": "478d9f79",
   "metadata": {},
   "outputs": [
    {
     "name": "stdout",
     "output_type": "stream",
     "text": [
      "<class 'pandas.core.frame.DataFrame'>\n",
      "Index: 9290 entries, 0 to 9999\n",
      "Data columns (total 8 columns):\n",
      " #   Column            Non-Null Count  Dtype         \n",
      "---  ------            --------------  -----         \n",
      " 0   Transaction ID    9290 non-null   object        \n",
      " 1   Item              9290 non-null   object        \n",
      " 2   Quantity          9290 non-null   float64       \n",
      " 3   Price Per Unit    9290 non-null   float64       \n",
      " 4   Total Spent       9290 non-null   float64       \n",
      " 5   Payment Method    9290 non-null   object        \n",
      " 6   Location          9290 non-null   object        \n",
      " 7   Transaction Date  9290 non-null   datetime64[ns]\n",
      "dtypes: datetime64[ns](1), float64(3), object(4)\n",
      "memory usage: 653.2+ KB\n"
     ]
    }
   ],
   "source": [
    "data.info()"
   ]
  },
  {
   "cell_type": "code",
   "execution_count": 31,
   "id": "c2d69f96",
   "metadata": {},
   "outputs": [
    {
     "data": {
      "text/html": [
       "<div>\n",
       "<style scoped>\n",
       "    .dataframe tbody tr th:only-of-type {\n",
       "        vertical-align: middle;\n",
       "    }\n",
       "\n",
       "    .dataframe tbody tr th {\n",
       "        vertical-align: top;\n",
       "    }\n",
       "\n",
       "    .dataframe thead th {\n",
       "        text-align: right;\n",
       "    }\n",
       "</style>\n",
       "<table border=\"1\" class=\"dataframe\">\n",
       "  <thead>\n",
       "    <tr style=\"text-align: right;\">\n",
       "      <th></th>\n",
       "      <th>Transaction ID</th>\n",
       "      <th>Item</th>\n",
       "      <th>Quantity</th>\n",
       "      <th>Price Per Unit</th>\n",
       "      <th>Total Spent</th>\n",
       "      <th>Payment Method</th>\n",
       "      <th>Location</th>\n",
       "      <th>Transaction Date</th>\n",
       "    </tr>\n",
       "  </thead>\n",
       "  <tbody>\n",
       "    <tr>\n",
       "      <th>0</th>\n",
       "      <td>TXN_1961373</td>\n",
       "      <td>COFFEE</td>\n",
       "      <td>2.0</td>\n",
       "      <td>2.0</td>\n",
       "      <td>1.609438</td>\n",
       "      <td>CREDIT CARD</td>\n",
       "      <td>TAKEAWAY</td>\n",
       "      <td>2023-09-08</td>\n",
       "    </tr>\n",
       "    <tr>\n",
       "      <th>1</th>\n",
       "      <td>TXN_4977031</td>\n",
       "      <td>CAKE</td>\n",
       "      <td>4.0</td>\n",
       "      <td>3.0</td>\n",
       "      <td>2.564949</td>\n",
       "      <td>CASH</td>\n",
       "      <td>IN-STORE</td>\n",
       "      <td>2023-05-16</td>\n",
       "    </tr>\n",
       "    <tr>\n",
       "      <th>2</th>\n",
       "      <td>TXN_4271903</td>\n",
       "      <td>COOKIE</td>\n",
       "      <td>4.0</td>\n",
       "      <td>1.0</td>\n",
       "      <td>2.197225</td>\n",
       "      <td>CREDIT CARD</td>\n",
       "      <td>IN-STORE</td>\n",
       "      <td>2023-07-19</td>\n",
       "    </tr>\n",
       "    <tr>\n",
       "      <th>3</th>\n",
       "      <td>TXN_7034554</td>\n",
       "      <td>SALAD</td>\n",
       "      <td>2.0</td>\n",
       "      <td>5.0</td>\n",
       "      <td>2.397895</td>\n",
       "      <td>DIGITAL WALLET</td>\n",
       "      <td>TAKEAWAY</td>\n",
       "      <td>2023-04-27</td>\n",
       "    </tr>\n",
       "    <tr>\n",
       "      <th>4</th>\n",
       "      <td>TXN_3160411</td>\n",
       "      <td>COFFEE</td>\n",
       "      <td>2.0</td>\n",
       "      <td>2.0</td>\n",
       "      <td>1.609438</td>\n",
       "      <td>DIGITAL WALLET</td>\n",
       "      <td>IN-STORE</td>\n",
       "      <td>2023-06-11</td>\n",
       "    </tr>\n",
       "  </tbody>\n",
       "</table>\n",
       "</div>"
      ],
      "text/plain": [
       "  Transaction ID    Item  Quantity  Price Per Unit  Total Spent  \\\n",
       "0    TXN_1961373  COFFEE       2.0             2.0     1.609438   \n",
       "1    TXN_4977031    CAKE       4.0             3.0     2.564949   \n",
       "2    TXN_4271903  COOKIE       4.0             1.0     2.197225   \n",
       "3    TXN_7034554   SALAD       2.0             5.0     2.397895   \n",
       "4    TXN_3160411  COFFEE       2.0             2.0     1.609438   \n",
       "\n",
       "   Payment Method  Location Transaction Date  \n",
       "0     CREDIT CARD  TAKEAWAY       2023-09-08  \n",
       "1            CASH  IN-STORE       2023-05-16  \n",
       "2     CREDIT CARD  IN-STORE       2023-07-19  \n",
       "3  DIGITAL WALLET  TAKEAWAY       2023-04-27  \n",
       "4  DIGITAL WALLET  IN-STORE       2023-06-11  "
      ]
     },
     "execution_count": 31,
     "metadata": {},
     "output_type": "execute_result"
    }
   ],
   "source": [
    "data.head()"
   ]
  },
  {
   "cell_type": "code",
   "execution_count": 32,
   "id": "71cfc0c7",
   "metadata": {},
   "outputs": [],
   "source": [
    "# one-hot Encoding \n",
    "data = pd.get_dummies(data, columns=['Payment Method', 'Location', 'Item'], drop_first=True)\n"
   ]
  },
  {
   "cell_type": "code",
   "execution_count": 33,
   "id": "c8d3643f",
   "metadata": {},
   "outputs": [],
   "source": [
    "# Convert all bool columns to integers (0 and 1)\n",
    "bool_cols = data.select_dtypes(include='bool').columns\n",
    "data[bool_cols] = data[bool_cols].astype(int)"
   ]
  },
  {
   "cell_type": "code",
   "execution_count": 34,
   "id": "9aef8d98",
   "metadata": {},
   "outputs": [
    {
     "data": {
      "text/html": [
       "<div>\n",
       "<style scoped>\n",
       "    .dataframe tbody tr th:only-of-type {\n",
       "        vertical-align: middle;\n",
       "    }\n",
       "\n",
       "    .dataframe tbody tr th {\n",
       "        vertical-align: top;\n",
       "    }\n",
       "\n",
       "    .dataframe thead th {\n",
       "        text-align: right;\n",
       "    }\n",
       "</style>\n",
       "<table border=\"1\" class=\"dataframe\">\n",
       "  <thead>\n",
       "    <tr style=\"text-align: right;\">\n",
       "      <th></th>\n",
       "      <th>Transaction ID</th>\n",
       "      <th>Quantity</th>\n",
       "      <th>Price Per Unit</th>\n",
       "      <th>Total Spent</th>\n",
       "      <th>Transaction Date</th>\n",
       "      <th>Payment Method_CREDIT CARD</th>\n",
       "      <th>Payment Method_DIGITAL WALLET</th>\n",
       "      <th>Location_TAKEAWAY</th>\n",
       "      <th>Item_COFFEE</th>\n",
       "      <th>Item_COOKIE</th>\n",
       "      <th>Item_JUICE</th>\n",
       "      <th>Item_SALAD</th>\n",
       "      <th>Item_SANDWICH</th>\n",
       "      <th>Item_SMOOTHIE</th>\n",
       "      <th>Item_TEA</th>\n",
       "    </tr>\n",
       "  </thead>\n",
       "  <tbody>\n",
       "    <tr>\n",
       "      <th>0</th>\n",
       "      <td>TXN_1961373</td>\n",
       "      <td>2.0</td>\n",
       "      <td>2.0</td>\n",
       "      <td>1.609438</td>\n",
       "      <td>2023-09-08</td>\n",
       "      <td>1</td>\n",
       "      <td>0</td>\n",
       "      <td>1</td>\n",
       "      <td>1</td>\n",
       "      <td>0</td>\n",
       "      <td>0</td>\n",
       "      <td>0</td>\n",
       "      <td>0</td>\n",
       "      <td>0</td>\n",
       "      <td>0</td>\n",
       "    </tr>\n",
       "    <tr>\n",
       "      <th>1</th>\n",
       "      <td>TXN_4977031</td>\n",
       "      <td>4.0</td>\n",
       "      <td>3.0</td>\n",
       "      <td>2.564949</td>\n",
       "      <td>2023-05-16</td>\n",
       "      <td>0</td>\n",
       "      <td>0</td>\n",
       "      <td>0</td>\n",
       "      <td>0</td>\n",
       "      <td>0</td>\n",
       "      <td>0</td>\n",
       "      <td>0</td>\n",
       "      <td>0</td>\n",
       "      <td>0</td>\n",
       "      <td>0</td>\n",
       "    </tr>\n",
       "    <tr>\n",
       "      <th>2</th>\n",
       "      <td>TXN_4271903</td>\n",
       "      <td>4.0</td>\n",
       "      <td>1.0</td>\n",
       "      <td>2.197225</td>\n",
       "      <td>2023-07-19</td>\n",
       "      <td>1</td>\n",
       "      <td>0</td>\n",
       "      <td>0</td>\n",
       "      <td>0</td>\n",
       "      <td>1</td>\n",
       "      <td>0</td>\n",
       "      <td>0</td>\n",
       "      <td>0</td>\n",
       "      <td>0</td>\n",
       "      <td>0</td>\n",
       "    </tr>\n",
       "    <tr>\n",
       "      <th>3</th>\n",
       "      <td>TXN_7034554</td>\n",
       "      <td>2.0</td>\n",
       "      <td>5.0</td>\n",
       "      <td>2.397895</td>\n",
       "      <td>2023-04-27</td>\n",
       "      <td>0</td>\n",
       "      <td>1</td>\n",
       "      <td>1</td>\n",
       "      <td>0</td>\n",
       "      <td>0</td>\n",
       "      <td>0</td>\n",
       "      <td>1</td>\n",
       "      <td>0</td>\n",
       "      <td>0</td>\n",
       "      <td>0</td>\n",
       "    </tr>\n",
       "    <tr>\n",
       "      <th>4</th>\n",
       "      <td>TXN_3160411</td>\n",
       "      <td>2.0</td>\n",
       "      <td>2.0</td>\n",
       "      <td>1.609438</td>\n",
       "      <td>2023-06-11</td>\n",
       "      <td>0</td>\n",
       "      <td>1</td>\n",
       "      <td>0</td>\n",
       "      <td>1</td>\n",
       "      <td>0</td>\n",
       "      <td>0</td>\n",
       "      <td>0</td>\n",
       "      <td>0</td>\n",
       "      <td>0</td>\n",
       "      <td>0</td>\n",
       "    </tr>\n",
       "  </tbody>\n",
       "</table>\n",
       "</div>"
      ],
      "text/plain": [
       "  Transaction ID  Quantity  Price Per Unit  Total Spent Transaction Date  \\\n",
       "0    TXN_1961373       2.0             2.0     1.609438       2023-09-08   \n",
       "1    TXN_4977031       4.0             3.0     2.564949       2023-05-16   \n",
       "2    TXN_4271903       4.0             1.0     2.197225       2023-07-19   \n",
       "3    TXN_7034554       2.0             5.0     2.397895       2023-04-27   \n",
       "4    TXN_3160411       2.0             2.0     1.609438       2023-06-11   \n",
       "\n",
       "   Payment Method_CREDIT CARD  Payment Method_DIGITAL WALLET  \\\n",
       "0                           1                              0   \n",
       "1                           0                              0   \n",
       "2                           1                              0   \n",
       "3                           0                              1   \n",
       "4                           0                              1   \n",
       "\n",
       "   Location_TAKEAWAY  Item_COFFEE  Item_COOKIE  Item_JUICE  Item_SALAD  \\\n",
       "0                  1            1            0           0           0   \n",
       "1                  0            0            0           0           0   \n",
       "2                  0            0            1           0           0   \n",
       "3                  1            0            0           0           1   \n",
       "4                  0            1            0           0           0   \n",
       "\n",
       "   Item_SANDWICH  Item_SMOOTHIE  Item_TEA  \n",
       "0              0              0         0  \n",
       "1              0              0         0  \n",
       "2              0              0         0  \n",
       "3              0              0         0  \n",
       "4              0              0         0  "
      ]
     },
     "execution_count": 34,
     "metadata": {},
     "output_type": "execute_result"
    }
   ],
   "source": [
    "data.head()"
   ]
  },
  {
   "cell_type": "code",
   "execution_count": 35,
   "id": "6ea65a87",
   "metadata": {},
   "outputs": [],
   "source": [
    "from sklearn.model_selection import train_test_split\n",
    "\n",
    "X = data.drop(columns=['Total Spent', 'Transaction ID'])\n",
    "y = data['Total Spent']\n",
    "\n",
    "X_train, X_test, y_train, y_test = train_test_split(X, y, test_size=0.2, random_state=42)"
   ]
  },
  {
   "cell_type": "code",
   "execution_count": 36,
   "id": "c1b3de79",
   "metadata": {},
   "outputs": [],
   "source": [
    "\n",
    "# Convert datetime column to datetime object (if not already)\n",
    "X_train['Transaction Date'] = pd.to_datetime(X_train['Transaction Date'])\n",
    "X_test['Transaction Date'] = pd.to_datetime(X_test['Transaction Date'])\n",
    "\n",
    "# Extract useful features\n",
    "for data in [X_train, X_test]:\n",
    "    data['Year'] = data['Transaction Date'].dt.year\n",
    "    data['Month'] = data['Transaction Date'].dt.month\n",
    "    data['day'] = data['Transaction Date'].dt.day\n",
    "\n",
    "\n",
    "# Drop the original datetime column\n",
    "X_train = X_train.drop(columns=['Transaction Date'])\n",
    "X_test = X_test.drop(columns=['Transaction Date'])\n"
   ]
  },
  {
   "cell_type": "code",
   "execution_count": 37,
   "id": "f51f8869",
   "metadata": {},
   "outputs": [
    {
     "name": "stdout",
     "output_type": "stream",
     "text": [
      "MSE: 0.03581064707274536\n",
      "R² Score: 0.8991292881764426\n"
     ]
    }
   ],
   "source": [
    "from sklearn.ensemble import RandomForestRegressor\n",
    "from sklearn.metrics import mean_squared_error, r2_score\n",
    "\n",
    "model = RandomForestRegressor(n_estimators=100, random_state=42)\n",
    "model.fit(X_train, y_train)\n",
    "\n",
    "y_pred = model.predict(X_test)\n",
    "\n",
    "print(\"MSE:\", mean_squared_error(y_test, y_pred))\n",
    "print(\"R² Score:\", r2_score(y_test, y_pred))"
   ]
  },
  {
   "cell_type": "code",
   "execution_count": 38,
   "id": "071c351f",
   "metadata": {},
   "outputs": [
    {
     "name": "stdout",
     "output_type": "stream",
     "text": [
      "MSE: 0.043105179317669086\n",
      "R² Score: 0.8785821961769419\n"
     ]
    }
   ],
   "source": [
    "from sklearn.linear_model import LinearRegression\n",
    "from sklearn.metrics import mean_squared_error, r2_score\n",
    "\n",
    "# Initialize and train model\n",
    "model = LinearRegression()\n",
    "model.fit(X_train, y_train)\n",
    "\n",
    "# Predict\n",
    "y_pred = model.predict(X_test)\n",
    "\n",
    "# Evaluate\n",
    "print(\"MSE:\", mean_squared_error(y_test, y_pred))\n",
    "print(\"R² Score:\", r2_score(y_test, y_pred))\n"
   ]
  },
  {
   "cell_type": "code",
   "execution_count": 39,
   "id": "634406d3",
   "metadata": {},
   "outputs": [
    {
     "data": {
      "image/png": "[encoded data removed]",
      "text/plain": [
       "<Figure size 1200x500 with 2 Axes>"
      ]
     },
     "metadata": {},
     "output_type": "display_data"
    },
    {
     "data": {
      "image/png": "[encoded data removed]",
      "text/plain": [
       "<Figure size 1200x500 with 2 Axes>"
      ]
     },
     "metadata": {},
     "output_type": "display_data"
    },
    {
     "name": "stderr",
     "output_type": "stream",
     "text": [
      "C:\\Users\\SKULL\\AppData\\Local\\Temp\\ipykernel_18640\\1776817269.py:67: FutureWarning: \n",
      "\n",
      "Passing `palette` without assigning `hue` is deprecated and will be removed in v0.14.0. Assign the `x` variable to `hue` and set `legend=False` for the same effect.\n",
      "\n",
      "  sns.barplot(x='Model', y='MSE', data=metrics_df, palette='pastel')\n",
      "C:\\Users\\SKULL\\AppData\\Local\\Temp\\ipykernel_18640\\1776817269.py:71: FutureWarning: \n",
      "\n",
      "Passing `palette` without assigning `hue` is deprecated and will be removed in v0.14.0. Assign the `x` variable to `hue` and set `legend=False` for the same effect.\n",
      "\n",
      "  sns.barplot(x='Model', y='R2', data=metrics_df, palette='pastel')\n"
     ]
    },
    {
     "data": {
      "image/png": "[encoded data removed]",
      "text/plain": [
       "<Figure size 1000x400 with 2 Axes>"
      ]
     },
     "metadata": {},
     "output_type": "display_data"
    }
   ],
   "source": [
    "import matplotlib.pyplot as plt\n",
    "import seaborn as sns\n",
    "import numpy as np\n",
    "\n",
    "# Ensure plots use a clean style\n",
    "sns.set(style=\"whitegrid\")\n",
    "\n",
    "# Predict again for clarity\n",
    "rf_model = RandomForestRegressor(n_estimators=100, random_state=42)\n",
    "rf_model.fit(X_train, y_train)\n",
    "y_pred_rf = rf_model.predict(X_test)\n",
    "\n",
    "lr_model = LinearRegression()\n",
    "lr_model.fit(X_train, y_train)\n",
    "y_pred_lr = lr_model.predict(X_test)\n",
    "\n",
    "\n",
    "plt.figure(figsize=(12, 5))\n",
    "\n",
    "plt.subplot(1, 2, 1)\n",
    "sns.scatterplot(x=y_test, y=y_pred_rf, alpha=0.6, color='blue', label='Random Forest')\n",
    "plt.plot([y_test.min(), y_test.max()], [y_test.min(), y_test.max()], 'k--')\n",
    "plt.xlabel('Actual Total Spent')\n",
    "plt.ylabel('Predicted Total Spent')\n",
    "plt.title('Random Forest: Actual vs Predicted')\n",
    "plt.legend()\n",
    "\n",
    "plt.subplot(1, 2, 2)\n",
    "sns.scatterplot(x=y_test, y=y_pred_lr, alpha=0.6, color='green', label='Linear Regression')\n",
    "plt.plot([y_test.min(), y_test.max()], [y_test.min(), y_test.max()], 'k--')\n",
    "plt.xlabel('Actual Total Spent')\n",
    "plt.ylabel('Predicted Total Spent')\n",
    "plt.title('Linear Regression: Actual vs Predicted')\n",
    "plt.legend()\n",
    "\n",
    "plt.tight_layout()\n",
    "plt.show()\n",
    "\n",
    "residuals_rf = y_test - y_pred_rf\n",
    "residuals_lr = y_test - y_pred_lr\n",
    "\n",
    "plt.figure(figsize=(12, 5))\n",
    "\n",
    "plt.subplot(1, 2, 1)\n",
    "sns.histplot(residuals_rf, bins=30, kde=True, color='blue')\n",
    "plt.title(\"Random Forest Residuals\")\n",
    "\n",
    "plt.subplot(1, 2, 2)\n",
    "sns.histplot(residuals_lr, bins=30, kde=True, color='green')\n",
    "plt.title(\"Linear Regression Residuals\")\n",
    "\n",
    "plt.tight_layout()\n",
    "plt.show()\n",
    "\n",
    "\n",
    "metrics = {\n",
    "    'Model': ['Random Forest', 'Linear Regression'],\n",
    "    'MSE': [mean_squared_error(y_test, y_pred_rf), mean_squared_error(y_test, y_pred_lr)],\n",
    "    'R2': [r2_score(y_test, y_pred_rf), r2_score(y_test, y_pred_lr)]\n",
    "}\n",
    "\n",
    "metrics_df = pd.DataFrame(metrics)\n",
    "\n",
    "# Barplot\n",
    "plt.figure(figsize=(10, 4))\n",
    "plt.subplot(1, 2, 1)\n",
    "sns.barplot(x='Model', y='MSE', data=metrics_df, palette='pastel')\n",
    "plt.title(\"MSE Comparison\")\n",
    "\n",
    "plt.subplot(1, 2, 2)\n",
    "sns.barplot(x='Model', y='R2', data=metrics_df, palette='pastel')\n",
    "plt.title(\"R² Score Comparison\")\n",
    "\n",
    "plt.tight_layout()\n",
    "plt.show()\n"
   ]
  },
  {
   "cell_type": "code",
   "execution_count": 40,
   "id": "059d03d1",
   "metadata": {},
   "outputs": [
    {
     "name": "stdout",
     "output_type": "stream",
     "text": [
      "Random Forest CV Results:\n",
      "Average MSE: 0.04078231497727835\n",
      "Average R²: 0.8884154866837445\n",
      "\n",
      "Linear Regression CV Results:\n",
      "Average MSE: 0.045796029757842596\n",
      "Average R²: 0.8747471537688705\n"
     ]
    }
   ],
   "source": [
    "from sklearn.model_selection import cross_val_score\n",
    "from sklearn.ensemble import RandomForestRegressor\n",
    "from sklearn.linear_model import LinearRegression\n",
    "from sklearn.metrics import make_scorer, mean_squared_error, r2_score\n",
    "import numpy as np\n",
    "\n",
    "# Create a scoring function for MSE (negative because scikit-learn minimizes loss)\n",
    "mse_scorer = make_scorer(mean_squared_error, greater_is_better=False)\n",
    "\n",
    "\n",
    "rf_model = RandomForestRegressor(n_estimators=100, random_state=42)\n",
    "rf_mse_scores = cross_val_score(rf_model, X_train, y_train, cv=5, scoring=mse_scorer)\n",
    "rf_r2_scores = cross_val_score(rf_model, X_train, y_train, cv=5, scoring='r2')\n",
    "\n",
    "print(\"Random Forest CV Results:\")\n",
    "print(\"Average MSE:\", -np.mean(rf_mse_scores)) \n",
    "print(\"Average R²:\", np.mean(rf_r2_scores))\n",
    "print()\n",
    "\n",
    "\n",
    "lr_model = LinearRegression()\n",
    "lr_mse_scores = cross_val_score(lr_model, X_train, y_train, cv=5, scoring=mse_scorer)\n",
    "lr_r2_scores = cross_val_score(lr_model, X_train, y_train, cv=5, scoring='r2')\n",
    "\n",
    "print(\"Linear Regression CV Results:\")\n",
    "print(\"Average MSE:\", -np.mean(lr_mse_scores))\n",
    "print(\"Average R²:\", np.mean(lr_r2_scores))\n"
   ]
  }
 ],
 "metadata": {
  "kernelspec": {
   "display_name": "Python 3",
   "language": "python",
   "name": "python3"
  },
  "language_info": {
   "codemirror_mode": {
    "name": "ipython",
    "version": 3
   },
   "file_extension": ".py",
   "mimetype": "text/x-python",
   "name": "python",
   "nbconvert_exporter": "python",
   "pygments_lexer": "ipython3",
   "version": "3.13.3"
  }
 },
 "nbformat": 4,
 "nbformat_minor": 5
}
